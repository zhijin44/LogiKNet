{
 "cells": [
  {
   "cell_type": "code",
   "execution_count": 1,
   "id": "b452e4e7",
   "metadata": {},
   "outputs": [],
   "source": [
    "import torch\n",
    "import numpy as np\n",
    "import pandas as pd\n",
    "import torch.nn.functional as F\n",
    "import os"
   ]
  },
  {
   "cell_type": "code",
   "execution_count": 3,
   "id": "ceb7c7ac",
   "metadata": {},
   "outputs": [],
   "source": [
    "def load_csv_data(input_folder: str,\n",
    "                  file_name: str):\n",
    "    \"\"\"\n",
    "    Reads train & test CSVs from disk.\n",
    "    \n",
    "    Returns:\n",
    "      train_df (both pandas.DataFrame)\n",
    "    \"\"\"\n",
    "    dataset_path = os.path.join(input_folder, file_name)\n",
    "    dataset_df = pd.read_csv(dataset_path)\n",
    "    return dataset_df\n",
    "\n",
    "def extract_features_labels(df: pd.DataFrame):\n",
    "    \"\"\"\n",
    "    Splits a DataFrame into numpy feature array X and label vector y.\n",
    "    \n",
    "    The last column is the label.\n",
    "    \"\"\"\n",
    "    X = df.iloc[:, :-1].values\n",
    "    y = df.iloc[:,  -1].values\n",
    "    return X, y\n",
    "\n",
    "\n",
    "# Load data\n",
    "input_folder = '/home/zyang44/Github/baseline_cicIOT/P1_structurelevel/efficiency/input_files'\n",
    "test_fname = 'logiKNet_test_3994.csv'\n",
    "\n",
    "test_df = load_csv_data(input_folder, test_fname)"
   ]
  },
  {
   "cell_type": "code",
   "execution_count": null,
   "id": "0c8488b2",
   "metadata": {},
   "outputs": [
    {
     "name": "stdout",
     "output_type": "stream",
     "text": [
      "Class counts in the test set:\n",
      "label_L2\n",
      "5    703\n",
      "0    684\n",
      "1    673\n",
      "3    650\n",
      "4    645\n",
      "2    639\n",
      "Name: count, dtype: int64\n"
     ]
    }
   ],
   "source": [
    "# label_L1_mapping = {\"MQTT\": 0, \"Benign\": 1} \n",
    "# label_L2_mapping = {\"MQTT-DDoS-Connect_Flood\": 0, \"MQTT-DDoS-Publish_Flood\": 1, \n",
    "#                     \"MQTT-DoS-Connect_Flood\": 2, \"MQTT-DoS-Publish_Flood\": 3,\n",
    "#                     \"MQTT-Malformed_Data\": 4, \"Benign\": 5} \n",
    "\n",
    "# Count how many rows in each class\n",
    "class_counts = test_df.iloc[:, -1].value_counts()\n",
    "print(\"Class counts in the test set:\")\n",
    "print(class_counts)"
   ]
  },
  {
   "cell_type": "code",
   "execution_count": null,
   "id": "a60989f9",
   "metadata": {},
   "outputs": [
    {
     "name": "stdout",
     "output_type": "stream",
     "text": [
      "Number of benign samples in the test set: 0\n",
      "Percentage of benign samples in the test set: 0.00%\n",
      "Distribution of benign samples in the test set: []\n"
     ]
    }
   ],
   "source": [
    "# IF READ THE TEST SET SEQUENTIALLY,\n",
    "# we can randomly put the benign class (label_L2 = 5) in the dataset\n",
    "\n",
    "# shuffle the test set\n",
    "test_df = test_df.sample(frac=1, random_state=42).reset_index(drop=True)\n"
   ]
  },
  {
   "cell_type": "code",
   "execution_count": null,
   "id": "4e1f54d1",
   "metadata": {},
   "outputs": [],
   "source": [
    "class DataLoader(object):\n",
    "    def __init__(self,\n",
    "                 data,\n",
    "                 labels,\n",
    "                 batch_size=1,\n",
    "                 shuffle=True):\n",
    "        self.data = data\n",
    "        self.labels = labels\n",
    "        self.batch_size = batch_size\n",
    "        self.shuffle = shuffle\n",
    "\n",
    "    def __len__(self):\n",
    "        return int(np.ceil(self.data.shape[0] / self.batch_size))\n",
    "\n",
    "    def __iter__(self):\n",
    "        n = self.data.shape[0]\n",
    "        idxlist = list(range(n))\n",
    "        if self.shuffle:\n",
    "            np.random.shuffle(idxlist)\n",
    "\n",
    "        for _, start_idx in enumerate(range(0, n, self.batch_size)):\n",
    "            end_idx = min(start_idx + self.batch_size, n)\n",
    "            data = self.data[idxlist[start_idx:end_idx]]\n",
    "            labels = self.labels[idxlist[start_idx:end_idx]]\n",
    "            ############################################################\n",
    "            # Check if any class is missing in the batch\n",
    "            # present_classes = np.unique(labels.cpu().numpy())\n",
    "            # all_classes = np.arange(len(label_mapping))  # Adjust based on number of classes\n",
    "            # missing_classes = set(all_classes) - set(present_classes)\n",
    "            #\n",
    "            # if missing_classes:\n",
    "            #     print(f\"Batch {start_idx // self.batch_size} is missing classes {missing_classes}\")\n",
    "            ############################################################\n",
    "            yield data, labels\n",
    "\n",
    "# Extract features and labels from the test DataFrame\n",
    "X_test, y_test = extract_features_labels(test_df)\n",
    "# Create DataLoader for test data\n",
    "test_loader = DataLoader(data=torch.tensor(X_test, dtype=torch.float32),\n",
    "                          labels=torch.tensor(y_test, dtype=torch.long),\n",
    "                          batch_size=64,\n",
    "                          shuffle=False)\n"
   ]
  }
 ],
 "metadata": {
  "kernelspec": {
   "display_name": "LTN",
   "language": "python",
   "name": "python3"
  },
  "language_info": {
   "codemirror_mode": {
    "name": "ipython",
    "version": 3
   },
   "file_extension": ".py",
   "mimetype": "text/x-python",
   "name": "python",
   "nbconvert_exporter": "python",
   "pygments_lexer": "ipython3",
   "version": "3.11.7"
  }
 },
 "nbformat": 4,
 "nbformat_minor": 5
}
