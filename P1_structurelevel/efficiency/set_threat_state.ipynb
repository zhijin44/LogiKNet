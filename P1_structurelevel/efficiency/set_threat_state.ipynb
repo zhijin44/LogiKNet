{
 "cells": [
  {
   "cell_type": "code",
   "execution_count": 1,
   "id": "b452e4e7",
   "metadata": {},
   "outputs": [],
   "source": [
    "import torch\n",
    "import numpy as np\n",
    "import pandas as pd\n",
    "import torch.nn.functional as F\n",
    "import os"
   ]
  },
  {
   "cell_type": "code",
   "execution_count": 2,
   "id": "ceb7c7ac",
   "metadata": {},
   "outputs": [],
   "source": [
    "def load_csv_data(input_folder: str,\n",
    "                  file_name: str):\n",
    "    \"\"\"\n",
    "    Reads train & test CSVs from disk.\n",
    "    \n",
    "    Returns:\n",
    "      train_df (both pandas.DataFrame)\n",
    "    \"\"\"\n",
    "    dataset_path = os.path.join(input_folder, file_name)\n",
    "    dataset_df = pd.read_csv(dataset_path)\n",
    "    return dataset_df\n",
    "\n",
    "def extract_features_labels(df: pd.DataFrame):\n",
    "    \"\"\"\n",
    "    Splits a DataFrame into numpy feature array X and label vector y.\n",
    "    \n",
    "    The last column is the label.\n",
    "    \"\"\"\n",
    "    X = df.iloc[:, :-1].values\n",
    "    y = df.iloc[:,  -1].values\n",
    "    return X, y\n",
    "\n",
    "\n",
    "# Load data\n",
    "input_folder = '/home/zyang44/Github/baseline_cicIOT/P1_structurelevel/efficiency/input_files'\n",
    "test_fname = 'logiKNet_test_3994.csv'\n",
    "\n",
    "test_df = load_csv_data(input_folder, test_fname)"
   ]
  },
  {
   "cell_type": "code",
   "execution_count": null,
   "id": "0c8488b2",
   "metadata": {},
   "outputs": [
    {
     "name": "stdout",
     "output_type": "stream",
     "text": [
      "Class counts in the test set:\n",
      "label_L2\n",
      "5    703\n",
      "0    684\n",
      "1    673\n",
      "3    650\n",
      "4    645\n",
      "2    639\n",
      "Name: count, dtype: int64\n",
      "703 benign indices\n",
      "25 stratified indices from other classes\n",
      "Header_Length   -0.307076\n",
      "Protocol Type   -0.139918\n",
      "Duration        -0.234570\n",
      "Rate            -0.090659\n",
      "Srate           -0.090659\n",
      "IPv              0.103078\n",
      "LLC              0.103078\n",
      "Tot sum         -0.527501\n",
      "Min             -0.338572\n",
      "Max             -0.752721\n",
      "AVG             -0.574588\n",
      "Std             -0.650680\n",
      "Tot size        -0.572762\n",
      "IAT              0.002025\n",
      "Number           0.003347\n",
      "Magnitue        -0.664116\n",
      "Radius          -0.649943\n",
      "Covariance      -0.543391\n",
      "label_L2         2.000000\n",
      "Name: 1379, dtype: float64\n"
     ]
    }
   ],
   "source": [
    "# label_L1_mapping = {\"MQTT\": 0, \"Benign\": 1} \n",
    "# label_L2_mapping = {\"MQTT-DDoS-Connect_Flood\": 0, \"MQTT-DDoS-Publish_Flood\": 1, \n",
    "#                     \"MQTT-DoS-Connect_Flood\": 2, \"MQTT-DoS-Publish_Flood\": 3,\n",
    "#                     \"MQTT-Malformed_Data\": 4, \"Benign\": 5} \n",
    "\n",
    "# Count how many rows in each class\n",
    "class_counts = test_df.iloc[:, -1].value_counts()\n",
    "print(\"Class counts in the test set:\")\n",
    "print(class_counts)\n",
    "\n",
    "# Get whole indices of the benign class\n",
    "# stratified draw 5 indices from each other class\n",
    "benign_indices = test_df[test_df.iloc[:, -1] == 5].index.tolist()\n",
    "other_classes = test_df[test_df.iloc[:, -1] != 5].iloc[:, -1].unique()\n",
    "stratified_indices = []\n",
    "for cls in other_classes:\n",
    "    cls_indices = test_df[test_df.iloc[:, -1] == cls].index.tolist()\n",
    "    if len(cls_indices) >= 5:\n",
    "        stratified_indices.extend(np.random.choice(cls_indices, 5, replace=False).tolist())\n",
    "    else:\n",
    "        stratified_indices.extend(cls_indices)\n",
    "\n",
    "print(len(benign_indices), \"benign indices\")\n",
    "print(len(stratified_indices), \"stratified indices from other classes\")\n",
    "\n",
    "print(test_df.iloc[stratified_indices[0], :])\n"
   ]
  },
  {
   "cell_type": "code",
   "execution_count": null,
   "id": "4273828d",
   "metadata": {},
   "outputs": [],
   "source": [
    "def generate_poisson_stream(benign_samples, anomaly_samples, seed=42):\n",
    "    \"\"\"\n",
    "    Interleave anomaly_samples into benign_samples according to a Poisson‐like process.\n",
    "    \n",
    "    Parameters\n",
    "    ----------\n",
    "    benign_samples : array‐like\n",
    "        Your collection of benign items (e.g. feature vectors, indices, etc.).\n",
    "    anomaly_samples : array‐like\n",
    "        Your collection of anomaly items (must be “rare”, e.g. length << benign_samples).\n",
    "    seed : int, optional\n",
    "        Random seed for reproducibility (default=42).\n",
    "    \n",
    "    Returns\n",
    "    -------\n",
    "    stream : list\n",
    "        A single list containing all benign and anomaly samples in an order\n",
    "        where the gaps between anomalies follow a Geometric(p) distribution\n",
    "        with p = len(anomaly_samples)/len(benign_samples).\n",
    "    \"\"\"\n",
    "    rng = np.random.RandomState(seed)\n",
    "    \n",
    "    B = np.array(benign_samples)\n",
    "    A = np.array(anomaly_samples)\n",
    "    n_benign = len(B)\n",
    "    n_anom   = len(A)\n",
    "    \n",
    "    # overall “success” probability per benign sample\n",
    "    p = n_anom / n_benign\n",
    "    \n",
    "    # shuffle each pool\n",
    "    benign_shuf = rng.permutation(B)\n",
    "    anom_shuf   = rng.permutation(A)\n",
    "    \n",
    "    stream = []\n",
    "    b_ptr = 0\n",
    "    a_ptr = 0\n",
    "    \n",
    "    # place anomalies one by one\n",
    "    while a_ptr < n_anom and b_ptr < n_benign:\n",
    "        # draw gap ~ Geometric(p): number of trials until success\n",
    "        gap = rng.geometric(p)\n",
    "        # take (gap − 1) benign samples before the next anomaly\n",
    "        take = min(gap - 1, n_benign - b_ptr)\n",
    "        if take > 0:\n",
    "            stream.extend(benign_shuf[b_ptr : b_ptr + take].tolist())\n",
    "            b_ptr += take\n",
    "        # then place one anomaly\n",
    "        stream.append(anom_shuf[a_ptr])\n",
    "        a_ptr += 1\n",
    "    \n",
    "    # append any leftover benigns\n",
    "    if b_ptr < n_benign:\n",
    "        stream.extend(benign_shuf[b_ptr:].tolist())\n",
    "    \n",
    "    return stream\n",
    "\n",
    "# ── Example usage ──\n",
    "# benign = list(range(703))         # e.g. your 703 benign indices\n",
    "# anomalies = list(range(703,728))  # e.g. your 25 anomaly indices\n",
    "# stream = generate_poisson_stream(benign, anomalies, seed=0)\n",
    "# print(len(stream))  # → 728\n"
   ]
  },
  {
   "cell_type": "code",
   "execution_count": null,
   "id": "a60989f9",
   "metadata": {},
   "outputs": [
    {
     "name": "stdout",
     "output_type": "stream",
     "text": [
      "Number of benign samples in the test set: 0\n",
      "Percentage of benign samples in the test set: 0.00%\n",
      "Distribution of benign samples in the test set: []\n"
     ]
    }
   ],
   "source": [
    "# IF READ THE TEST SET SEQUENTIALLY,\n",
    "# we can randomly put the benign class (label_L2 = 5) in the dataset\n",
    "\n",
    "# shuffle the test set\n",
    "test_df = test_df.sample(frac=1, random_state=42).reset_index(drop=True)\n"
   ]
  },
  {
   "cell_type": "code",
   "execution_count": 5,
   "id": "4e1f54d1",
   "metadata": {},
   "outputs": [],
   "source": [
    "class DataLoader(object):\n",
    "    def __init__(self,\n",
    "                 data,\n",
    "                 labels,\n",
    "                 batch_size=1,\n",
    "                 shuffle=True):\n",
    "        self.data = data\n",
    "        self.labels = labels\n",
    "        self.batch_size = batch_size\n",
    "        self.shuffle = shuffle\n",
    "\n",
    "    def __len__(self):\n",
    "        return int(np.ceil(self.data.shape[0] / self.batch_size))\n",
    "\n",
    "    def __iter__(self):\n",
    "        n = self.data.shape[0]\n",
    "        idxlist = list(range(n))\n",
    "        if self.shuffle:\n",
    "            np.random.shuffle(idxlist)\n",
    "\n",
    "        for _, start_idx in enumerate(range(0, n, self.batch_size)):\n",
    "            end_idx = min(start_idx + self.batch_size, n)\n",
    "            data = self.data[idxlist[start_idx:end_idx]]\n",
    "            labels = self.labels[idxlist[start_idx:end_idx]]\n",
    "            ############################################################\n",
    "            # Check if any class is missing in the batch\n",
    "            # present_classes = np.unique(labels.cpu().numpy())\n",
    "            # all_classes = np.arange(len(label_mapping))  # Adjust based on number of classes\n",
    "            # missing_classes = set(all_classes) - set(present_classes)\n",
    "            #\n",
    "            # if missing_classes:\n",
    "            #     print(f\"Batch {start_idx // self.batch_size} is missing classes {missing_classes}\")\n",
    "            ############################################################\n",
    "            yield data, labels\n",
    "\n",
    "# Extract features and labels from the test DataFrame\n",
    "X_test, y_test = extract_features_labels(test_df)\n",
    "# Create DataLoader for test data\n",
    "test_loader = DataLoader(\n",
    "    data=torch.tensor(X_test, dtype=torch.float32),\n",
    "    labels=torch.tensor(y_test, dtype=torch.long),\n",
    "    shuffle=False\n",
    "    )\n"
   ]
  },
  {
   "cell_type": "code",
   "execution_count": 6,
   "id": "a9bf9a5f",
   "metadata": {},
   "outputs": [
    {
     "name": "stdout",
     "output_type": "stream",
     "text": [
      "Using device: cpu\n"
     ]
    },
    {
     "name": "stderr",
     "output_type": "stream",
     "text": [
      "/home/zyang44/miniconda3/envs/LTN/lib/python3.11/site-packages/torch/cuda/__init__.py:128: UserWarning: CUDA initialization: Unexpected error from cudaGetDeviceCount(). Did you run some cuda functions before calling NumCudaDevices() that might have already set an error? Error 804: forward compatibility was attempted on non supported HW (Triggered internally at /home/conda/feedstock_root/build_artifacts/libtorch_1724898583682/work/c10/cuda/CUDAFunctions.cpp:108.)\n",
      "  return torch._C._cuda_getDeviceCount() > 0\n"
     ]
    }
   ],
   "source": [
    "device = torch.device(\"cuda\" if torch.cuda.is_available() else \"cpu\")\n",
    "print(f\"Using device: {device}\")"
   ]
  },
  {
   "cell_type": "markdown",
   "id": "9d923025",
   "metadata": {},
   "source": []
  }
 ],
 "metadata": {
  "kernelspec": {
   "display_name": "LTN",
   "language": "python",
   "name": "python3"
  },
  "language_info": {
   "codemirror_mode": {
    "name": "ipython",
    "version": 3
   },
   "file_extension": ".py",
   "mimetype": "text/x-python",
   "name": "python",
   "nbconvert_exporter": "python",
   "pygments_lexer": "ipython3",
   "version": "3.11.7"
  }
 },
 "nbformat": 4,
 "nbformat_minor": 5
}
