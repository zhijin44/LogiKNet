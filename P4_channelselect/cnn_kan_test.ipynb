{
 "cells": [
  {
   "cell_type": "code",
   "execution_count": 1,
   "id": "3517ef9f",
   "metadata": {},
   "outputs": [],
   "source": [
    "import torch\n",
    "from torch import nn\n",
    "import torch.nn.functional as F\n",
    "from kan import KANLayer\n",
    "from kan import KAN"
   ]
  },
  {
   "cell_type": "code",
   "execution_count": null,
   "id": "d66b9708",
   "metadata": {},
   "outputs": [],
   "source": [
    "class ChannelWiseConv(nn.Module):\n",
    "    def __init__(self, grid_size: int = 5, in_channels: int = 13, num_classes: int = 10, device='cpu'):\n",
    "        \"\"\"Initialize the KANClassification model.\n",
    "        Args:\n",
    "            grid_size (int): Size of the grid for KAN convolutional layers.\n",
    "            in_channels (int): Number of input channels.\n",
    "            num_classes (int): Number of output classes.\n",
    "        \"\"\"\n",
    "        super().__init__()\n",
    "\n",
    "        self.channel_wise_encoding = []\n",
    "        for _ in range(in_channels):\n",
    "            this_channel_convs = [\n",
    "                nn.Conv2d(in_channels=1, out_channels=1, kernel_size=3, stride=2, padding=1),\n",
    "                nn.ReLU(), \n",
    "                nn.Conv2d(in_channels=1, out_channels=1, kernel_size=3, stride=2, padding=1), \n",
    "                nn.ReLU(),\n",
    "                nn.Conv2d(in_channels=1, out_channels=1, kernel_size=3, stride=2, padding=1),\n",
    "                nn.ReLU(), \n",
    "                nn.Conv2d(in_channels=1, out_channels=1, kernel_size=3, stride=2, padding=1),\n",
    "                nn.ReLU(), \n",
    "                nn.Conv2d(in_channels=1, out_channels=1, kernel_size=3, stride=2, padding=1),\n",
    "                nn.ReLU(), \n",
    "                nn.Conv2d(in_channels=1, out_channels=1, kernel_size=2, stride=1, padding=0)\n",
    "                # Final shape: [B, 13, 1, 1]\n",
    "            ]\n",
    "            self.channel_wise_encoding.append(\n",
    "                nn.Sequential(*this_channel_convs).to(device)\n",
    "            )\n",
    "\n",
    "        # last KAN linear layer\n",
    "        self.kan_bands_aggregator = KAN(\n",
    "            width=[in_channels, 20, num_classes], \n",
    "            grid=grid_size, \n",
    "            k=3, \n",
    "            seed=42, \n",
    "            device=device\n",
    "        )\n",
    "\n",
    "        self.name = 'ChannelWiseConv'\n",
    "\n",
    "\n",
    "    def forward(self, x):\n",
    "        \"\"\"Forward pass of the KANClassification model.\n",
    "        Args:\n",
    "            x (torch.Tensor): Input tensor of shape (batch_size, in_channels, height, width).\n",
    "        Returns:\n",
    "            torch.Tensor: Output tensor of shape (batch_size, num_classes).\n",
    "        \"\"\"\n",
    "        channel_wise_outputs = []\n",
    "        for i in range(x.shape[1]):\n",
    "            channel_output = self.channel_wise_encoding[i](x[:, i:i+1, :, :])\n",
    "            channel_wise_outputs.append(channel_output)\n",
    "        x = torch.cat(channel_wise_outputs, dim=1)\n",
    "        x = x.view(x.size(0), -1)  # Flatten [B, C, 1, 1] to [B, C]\n",
    "        x = self.kan_bands_aggregator(x)\n",
    "        x = F.log_softmax(x, dim=1)\n",
    "        return x\n",
    "\n"
   ]
  },
  {
   "cell_type": "code",
   "execution_count": 4,
   "id": "a777f720",
   "metadata": {},
   "outputs": [
    {
     "name": "stdout",
     "output_type": "stream",
     "text": [
      "checkpoint directory created: ./model\n",
      "saving model version 0.0\n",
      "torch.Size([32, 10])\n"
     ]
    }
   ],
   "source": [
    "# create a random input tensor with shape channels x 64 x 64\n",
    "if __name__ == \"__main__\":\n",
    "    # Example usage\n",
    "    batch_size = 32\n",
    "    in_channels = 13\n",
    "    height = 64\n",
    "    width = 64\n",
    "    grid_size = 5\n",
    "    num_classes = 10\n",
    "\n",
    "    # Create a random input tensor with shape (batch_size, in_channels, height, width)\n",
    "    x = torch.randn(batch_size, in_channels, height, width)\n",
    "\n",
    "    # Initialize the model\n",
    "    device = 'cuda' if torch.cuda.is_available() else 'cpu'\n",
    "    model = ChannelWiseConv(grid_size=grid_size, in_channels=in_channels, num_classes=num_classes, device=device).to(device)\n",
    "\n",
    "    # Forward pass\n",
    "    output = model(x.to(device))\n",
    "    print(output.shape)  # Should be (batch_size, num_classes)"
   ]
  }
 ],
 "metadata": {
  "kernelspec": {
   "display_name": "LTN",
   "language": "python",
   "name": "python3"
  },
  "language_info": {
   "codemirror_mode": {
    "name": "ipython",
    "version": 3
   },
   "file_extension": ".py",
   "mimetype": "text/x-python",
   "name": "python",
   "nbconvert_exporter": "python",
   "pygments_lexer": "ipython3",
   "version": "3.11.7"
  }
 },
 "nbformat": 4,
 "nbformat_minor": 5
}
